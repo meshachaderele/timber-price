{
  "nbformat": 4,
  "nbformat_minor": 0,
  "metadata": {
    "colab": {
      "provenance": [],
      "collapsed_sections": [
        "xrKype63uGO1",
        "UEY8o-KPuLm1",
        "b2MxDkDCuOxV",
        "Z6kAqSTBuWHa",
        "mM7luQqauucz",
        "LZ1Z7tHDDfw4"
      ],
      "authorship_tag": "ABX9TyOiTYH/B92Yf8j3Xbnj/Vlf",
      "include_colab_link": true
    },
    "kernelspec": {
      "name": "python3",
      "display_name": "Python 3"
    },
    "language_info": {
      "name": "python"
    }
  },
  "cells": [
    {
      "cell_type": "markdown",
      "metadata": {
        "id": "view-in-github",
        "colab_type": "text"
      },
      "source": [
        "<a href=\"https://colab.research.google.com/github/meshachaderele/timber-price/blob/main/IDF_2024_Timber_Price_Predictor.ipynb\" target=\"_parent\"><img src=\"https://colab.research.google.com/assets/colab-badge.svg\" alt=\"Open In Colab\"/></a>"
      ]
    },
    {
      "cell_type": "markdown",
      "source": [
        "# The Problem\n",
        "\n",
        "**Case Study:**\n",
        "Standardizing Timber Product Pricing for a Forestry Company\n",
        "\n",
        "**Background:**\n",
        "You have recently joined a Forestry company as a Forest Product Officer. The company faces a significant challenge in establishing a standardized method for pricing its timber products. This inconsistency in pricing has led to confusion and inefficiencies within the company's operations.\n",
        "\n",
        "**Objective:**\n",
        "Your task is to develop a comprehensive strategy to address the pricing inconsistency issue and establish a standardized pricing framework for the company's timber products."
      ],
      "metadata": {
        "id": "_CAH41ehzYva"
      }
    },
    {
      "cell_type": "markdown",
      "source": [
        "Note: You can access this notebook and files on my github at https://bit.ly/idf24-timber-price"
      ],
      "metadata": {
        "id": "sy6S3wUt0_hs"
      }
    },
    {
      "cell_type": "markdown",
      "source": [
        "# Load the Data"
      ],
      "metadata": {
        "id": "xrKype63uGO1"
      }
    },
    {
      "cell_type": "code",
      "source": [
        "# Import necessary libraries\n",
        "import pandas as pd\n",
        "import numpy as np\n",
        "import matplotlib.pyplot as plt\n",
        "\n",
        "\n",
        "# Load the data\n",
        "\n",
        "data = pd.read_csv('https://raw.githubusercontent.com/meshachaderele/timber-price/main/timber_price_data.csv')\n"
      ],
      "metadata": {
        "id": "QjtbpqGTodkS"
      },
      "execution_count": null,
      "outputs": []
    },
    {
      "cell_type": "markdown",
      "source": [
        "# Explore the Data"
      ],
      "metadata": {
        "id": "UEY8o-KPuLm1"
      }
    },
    {
      "cell_type": "code",
      "source": [
        "# Exploratory Data Analysis\n",
        "data.head()"
      ],
      "metadata": {
        "id": "5608Bhogs3OY"
      },
      "execution_count": null,
      "outputs": []
    },
    {
      "cell_type": "code",
      "source": [
        "data.describe()"
      ],
      "metadata": {
        "id": "Buyr1epy4bAT"
      },
      "execution_count": null,
      "outputs": []
    },
    {
      "cell_type": "code",
      "source": [
        "data.isna().any()"
      ],
      "metadata": {
        "id": "gl2fP2R-5XTu"
      },
      "execution_count": null,
      "outputs": []
    },
    {
      "cell_type": "code",
      "source": [
        "data.columns"
      ],
      "metadata": {
        "id": "a7-Uk7ud5jGF"
      },
      "execution_count": null,
      "outputs": []
    },
    {
      "cell_type": "code",
      "source": [
        "import seaborn as sns\n",
        "\n",
        "variables = ['DBH', 'Height', 'Age', 'Latitude', 'Longitude', 'Timber Price']\n",
        "\n",
        "# Plot histograms for each variable\n",
        "plt.figure(figsize=(15, 10))\n",
        "for i, var in enumerate(variables, 1):\n",
        "    plt.subplot(3, 2, i)\n",
        "    sns.histplot(data[var], bins=20, kde=True)\n",
        "    plt.title(f'Histogram of {var}')\n",
        "    plt.xlabel(var)\n",
        "    plt.ylabel('Frequency')\n",
        "\n",
        "plt.tight_layout()\n",
        "plt.show()"
      ],
      "metadata": {
        "id": "-XK42GUV5bvG"
      },
      "execution_count": null,
      "outputs": []
    },
    {
      "cell_type": "code",
      "source": [
        "# Check for correlation\n",
        "\n",
        "import matplotlib.pyplot as plt\n",
        "\n",
        "# Assuming 'data' is your DataFrame\n",
        "correlation_matrix = data.corr()\n",
        "\n",
        "# Plotting the heatmap\n",
        "plt.figure(figsize=(10, 8))\n",
        "sns.heatmap(correlation_matrix, annot=True, cmap='coolwarm', vmin=-1, vmax=1)\n",
        "plt.title('Correlation Matrix')\n",
        "plt.show()"
      ],
      "metadata": {
        "id": "fYBFmUgA52e1"
      },
      "execution_count": null,
      "outputs": []
    },
    {
      "cell_type": "markdown",
      "source": [
        "# Data Preprocessing for Modeling"
      ],
      "metadata": {
        "id": "b2MxDkDCuOxV"
      }
    },
    {
      "cell_type": "code",
      "source": [
        "\n",
        "# Splitting data into features (X) and target variable (y)\n",
        "X = data[['DBH', 'Height', 'Age', 'Species', 'Soil_Type', 'Latitude', 'Longitude']]\n",
        "y = data['Timber Price']\n",
        "\n"
      ],
      "metadata": {
        "id": "KTXOAFdhrCv0"
      },
      "execution_count": null,
      "outputs": []
    },
    {
      "cell_type": "code",
      "source": [
        "# Encoding categorical variables\n",
        "\n",
        "from sklearn.preprocessing import OneHotEncoder\n",
        "from sklearn.compose import ColumnTransformer\n",
        "from sklearn.pipeline import Pipeline\n",
        "\n",
        "# Categorical features to be one-hot encoded\n",
        "cat_features = ['Species', 'Soil_Type']\n",
        "\n",
        "# Preprocessing pipeline for categorical features\n",
        "cat_transformer = Pipeline(steps=[\n",
        "    ('onehot', OneHotEncoder(handle_unknown='ignore'))\n",
        "])\n",
        "\n",
        "# Combine preprocessing for all features\n",
        "preprocessor = ColumnTransformer(\n",
        "    transformers=[\n",
        "        ('cat', cat_transformer, cat_features)\n",
        "    ], remainder='passthrough'\n",
        ")\n",
        "\n"
      ],
      "metadata": {
        "id": "PqmVP007rN4y"
      },
      "execution_count": null,
      "outputs": []
    },
    {
      "cell_type": "code",
      "source": [
        "from sklearn.model_selection import train_test_split\n",
        "# Splitting the data into training and testing sets\n",
        "X_train, X_test, y_train, y_test = train_test_split(X, y, test_size=0.2, random_state=42)\n",
        "\n"
      ],
      "metadata": {
        "id": "KrqCjORVrZJK"
      },
      "execution_count": null,
      "outputs": []
    },
    {
      "cell_type": "markdown",
      "source": [
        "# Model Training and Testing"
      ],
      "metadata": {
        "id": "Z6kAqSTBuWHa"
      }
    },
    {
      "cell_type": "code",
      "source": [
        "# Load libraries\n",
        "from sklearn.ensemble import RandomForestRegressor\n",
        "from sklearn.metrics import mean_squared_error, r2_score\n",
        "\n",
        "# Model Training\n",
        "rf_model = RandomForestRegressor(n_estimators=100, random_state=42)\n",
        "\n",
        "# Create a pipeline\n",
        "pipeline = Pipeline(steps=[\n",
        "    ('preprocessor', preprocessor),\n",
        "    ('model', rf_model)\n",
        "])\n",
        "pipeline.fit(X_train, y_train)\n",
        "\n"
      ],
      "metadata": {
        "id": "V1ZNQc44rcqQ"
      },
      "execution_count": null,
      "outputs": []
    },
    {
      "cell_type": "code",
      "source": [
        "# Model Evaluation\n",
        "y_pred = pipeline.predict(X_test)\n",
        "\n",
        "mse = mean_squared_error(y_test, y_pred)\n",
        "rmse = np.sqrt(mse)\n",
        "r2 = r2_score(y_test, y_pred)\n",
        "\n",
        "print(\"Mean Squared Error (MSE):\", mse)\n",
        "print(\"Root Mean Squared Error (RMSE):\", rmse)\n",
        "print(\"R² Score:\", r2)\n"
      ],
      "metadata": {
        "id": "8yuQKWwGrfT_"
      },
      "execution_count": null,
      "outputs": []
    },
    {
      "cell_type": "code",
      "source": [
        "# Visualize predicted vs. actual price\n",
        "from scipy import stats\n",
        "\n",
        "plt.scatter(y_test, y_pred, alpha=0.5)\n",
        "\n",
        "slope, intercept, rvalue, pvalue, stderr = stats.linregress(y_test,y_pred)\n",
        "\n",
        "plt.plot(y_test,slope*y_test+intercept)\n",
        "\n",
        "plt.xlabel(\"Actual Price\")\n",
        "plt.ylabel(\"Predicted Price\")\n",
        "plt.title(\"Actual vs. Predicted Timber Price\")\n",
        "plt.show()"
      ],
      "metadata": {
        "id": "zRBMdVDmrmM7"
      },
      "execution_count": null,
      "outputs": []
    },
    {
      "cell_type": "markdown",
      "source": [
        "# Make Predictions With the Trained Model"
      ],
      "metadata": {
        "id": "mM7luQqauucz"
      }
    },
    {
      "cell_type": "code",
      "source": [
        "\n",
        "pred_data = pd.read_csv('https://raw.githubusercontent.com/meshachaderele/timber-price/main/timber_price_val_data.csv')\n"
      ],
      "metadata": {
        "id": "FJdqeXhksANw"
      },
      "execution_count": null,
      "outputs": []
    },
    {
      "cell_type": "code",
      "source": [
        "pred_data.head()"
      ],
      "metadata": {
        "id": "TwBxX5ccGEU6"
      },
      "execution_count": null,
      "outputs": []
    },
    {
      "cell_type": "code",
      "source": [
        "# Make the prediction\n",
        "timber_price_predict = pipeline.predict(pred_data)"
      ],
      "metadata": {
        "id": "FBBE67y1sd1a"
      },
      "execution_count": null,
      "outputs": []
    },
    {
      "cell_type": "code",
      "source": [
        "#Join the prediction to table\n",
        "pred_data['Timber Price'] = timber_price_predict\n",
        "pred_data.head()"
      ],
      "metadata": {
        "id": "6J5mRpY-2Xq7"
      },
      "execution_count": null,
      "outputs": []
    },
    {
      "cell_type": "markdown",
      "source": [
        "# Deploy Model into Interface"
      ],
      "metadata": {
        "id": "LZ1Z7tHDDfw4"
      }
    },
    {
      "cell_type": "code",
      "source": [
        "import joblib\n",
        "\n",
        "# Save the pipeline model\n",
        "joblib.dump(pipeline, 'timber_price_model.joblib')"
      ],
      "metadata": {
        "id": "Sv9JMs3NOB2d"
      },
      "execution_count": null,
      "outputs": []
    },
    {
      "cell_type": "code",
      "source": [
        "!pip install streamlit"
      ],
      "metadata": {
        "id": "D1QFFQNbPMca"
      },
      "execution_count": null,
      "outputs": []
    },
    {
      "cell_type": "code",
      "source": [
        "%%writefile app.py\n",
        "import streamlit as st\n",
        "import pandas as pd\n",
        "import joblib\n",
        "\n",
        "# Load the trained model\n",
        "model = joblib.load('timber_price_model.joblib')\n",
        "\n",
        "def predict_price(features):\n",
        "    # Convert input dictionary to DataFrame\n",
        "    input_data = pd.DataFrame([features])\n",
        "    # Make prediction\n",
        "    prediction = model.predict(input_data)\n",
        "    return prediction[0]\n",
        "\n",
        "def main():\n",
        "    st.title('Timber Price Prediction App')\n",
        "    st.write('Enter the following details to predict Timber Price:')\n",
        "\n",
        "    # Input fields\n",
        "    dbh = st.number_input('Diameter at Breast Height (DBH)', min_value=0.1, step=0.1)\n",
        "    height = st.number_input('Height (in feet)', min_value=1.0, step=1.0)\n",
        "    age = st.number_input('Age (in years)', min_value=1, step=1)\n",
        "    species = st.selectbox('Species', ['Pine', 'Oak', 'Maple', 'Spruce'])\n",
        "    soil_type = st.selectbox('Soil Type', ['Sandy', 'Clay', 'Loam'])\n",
        "    latitude = st.number_input('Latitude', min_value=-90.0, max_value=90.0, step=0.001)\n",
        "    longitude = st.number_input('Longitude', min_value=-180.0, max_value=180.0, step=0.001)\n",
        "\n",
        "    # Create a dictionary from user inputs\n",
        "    features = {\n",
        "        'DBH': dbh,\n",
        "        'Height': height,\n",
        "        'Age': age,\n",
        "        'Species': species,\n",
        "        'Soil_Type': soil_type,\n",
        "        'Latitude': latitude,\n",
        "        'Longitude': longitude\n",
        "    }\n",
        "\n",
        "    # Predict Timber Price\n",
        "    if st.button('Predict'):\n",
        "        prediction = predict_price(features)\n",
        "        st.success(f'Predicted Timber Price: ${prediction:.2f}')\n",
        "\n",
        "if __name__ == '__main__':\n",
        "    main()\n"
      ],
      "metadata": {
        "id": "UgmpsTEhPR3f"
      },
      "execution_count": null,
      "outputs": []
    },
    {
      "cell_type": "code",
      "source": [
        "# Install necessary packages\n",
        "#! pip install streamlit -q\n",
        "!wget -q -O - ipv4.icanhazip.com\n",
        "! streamlit run app.py & npx localtunnel --port 8501\n"
      ],
      "metadata": {
        "id": "jH6tctLYb-Qp"
      },
      "execution_count": null,
      "outputs": []
    }
  ]
}